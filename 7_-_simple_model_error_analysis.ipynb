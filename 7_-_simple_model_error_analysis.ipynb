{
 "cells": [
  {
   "cell_type": "markdown",
   "id": "6035e0ec",
   "metadata": {},
   "source": [
    "# It's Corn (PogChamps \\#3) Kaggle Competition - Experiment 7\n",
    "## Model Error Analysis on Models from Experiment \\#6\n",
    "\n",
    "Attempting to load trained models from experiment \\#5 and do some simple model analysis to see if any insights can be made based on the type/quantity of errors."
   ]
  },
  {
   "cell_type": "markdown",
   "id": "8ee4c978",
   "metadata": {},
   "source": [
    "## Setup Competition Files"
   ]
  },
  {
   "cell_type": "code",
   "execution_count": 1,
   "id": "7b6736e8",
   "metadata": {},
   "outputs": [],
   "source": [
    "# install fastkaggle if not available\n",
    "try: import fastkaggle\n",
    "except ModuleNotFoundError:\n",
    "    !pip install -Uq fastkaggle\n",
    "\n",
    "from fastkaggle import *"
   ]
  },
  {
   "cell_type": "code",
   "execution_count": 2,
   "id": "96289d4a",
   "metadata": {},
   "outputs": [],
   "source": [
    "comp = 'kaggle-pog-series-s01e03'"
   ]
  },
  {
   "cell_type": "code",
   "execution_count": 3,
   "id": "37c3452c",
   "metadata": {},
   "outputs": [],
   "source": [
    "path = setup_comp(comp, install='fastai \"timm>=0.6.2.dev0\"')"
   ]
  },
  {
   "cell_type": "code",
   "execution_count": 4,
   "id": "06598afe",
   "metadata": {},
   "outputs": [],
   "source": [
    "import timm\n",
    "from fastai.vision.all import *\n",
    "set_seed(42)\n",
    "\n",
    "# path.ls()"
   ]
  },
  {
   "cell_type": "code",
   "execution_count": 5,
   "id": "73c438fe",
   "metadata": {},
   "outputs": [],
   "source": [
    "csv_path = path/'corn'"
   ]
  },
  {
   "cell_type": "code",
   "execution_count": 6,
   "id": "0dc6aafa",
   "metadata": {},
   "outputs": [],
   "source": [
    "trn_path = csv_path/'train'\n",
    "# trn_path.ls()"
   ]
  },
  {
   "cell_type": "code",
   "execution_count": 7,
   "id": "3066f1ec",
   "metadata": {},
   "outputs": [],
   "source": [
    "tst_path = csv_path/'test'\n",
    "# tst_path.ls()"
   ]
  },
  {
   "cell_type": "markdown",
   "id": "5e3a8fef",
   "metadata": {},
   "source": [
    "Grab csv lists"
   ]
  },
  {
   "cell_type": "code",
   "execution_count": 8,
   "id": "bfe60a7e",
   "metadata": {},
   "outputs": [],
   "source": [
    "csv_path = path/'corn'\n",
    "train_csv_fname = csv_path/'train.csv'\n",
    "trn_files = pd.read_csv(train_csv_fname)\n",
    "test_csv_fname = csv_path/'test.csv'\n",
    "tst_files = pd.read_csv(test_csv_fname)\n",
    "ss_csv_fname = csv_path/'sample_submission.csv'\n",
    "ss = pd.read_csv(ss_csv_fname)"
   ]
  },
  {
   "cell_type": "markdown",
   "id": "fed7e03d",
   "metadata": {},
   "source": [
    "Re-enumerate options tested in experiment 6"
   ]
  },
  {
   "cell_type": "code",
   "execution_count": 9,
   "id": "5bf07408",
   "metadata": {},
   "outputs": [],
   "source": [
    "champ_augmentations = {\n",
    "    'flip_rotate256': aug_transforms(size=(256,256),\n",
    "        min_scale=1.0, min_zoom=1.0, max_zoom=1.0,\n",
    "        max_lighting=0.0, p_lighting=0.0,\n",
    "        max_warp=0.0, p_affine=1.0,\n",
    "        max_rotate=90.0,\n",
    "        do_flip=True, flip_vert=True, pad_mode='border'),\n",
    "    'flip_rotate_smcrop256': aug_transforms(size=(256,256),\n",
    "        min_scale=1.0, min_zoom=1.0, max_zoom=1.2,\n",
    "        max_lighting=0.0, p_lighting=0.0,\n",
    "        max_warp=0.0, p_affine=0.75,\n",
    "        max_rotate=90.0,\n",
    "        do_flip=True, flip_vert=True, pad_mode='border'),\n",
    "    'flip_rotate_smlightcropwarp256': aug_transforms(size=(256,256),\n",
    "        min_scale=1.0, min_zoom=1.0, max_zoom=1.2,\n",
    "        max_lighting=0.1, p_lighting=0.75,\n",
    "        max_warp=0.2, p_affine=0.75,\n",
    "        max_rotate=90.0,\n",
    "        do_flip=True, flip_vert=True, pad_mode='border'),\n",
    "    'flip_rotate224': aug_transforms(size=(224,224),\n",
    "        min_scale=1.0, min_zoom=1.0, max_zoom=1.0,\n",
    "        max_lighting=0.0, p_lighting=0.0,\n",
    "        max_warp=0.0, p_affine=1.0,\n",
    "        max_rotate=90.0,\n",
    "        do_flip=True, flip_vert=True, pad_mode='border'),\n",
    "    'flip_rotate_smcrop224': aug_transforms(size=(224,224),\n",
    "        min_scale=1.0, min_zoom=1.0, max_zoom=1.2,\n",
    "        max_lighting=0.0, p_lighting=0.0,\n",
    "        max_warp=0.0, p_affine=0.75,\n",
    "        max_rotate=90.0,\n",
    "        do_flip=True, flip_vert=True, pad_mode='border'),\n",
    "    'flip_rotate_smlightcropwarp224': aug_transforms(size=(224,224),\n",
    "        min_scale=1.0, min_zoom=1.0, max_zoom=1.2,\n",
    "        max_lighting=0.1, p_lighting=0.75,\n",
    "        max_warp=0.2, p_affine=0.75,\n",
    "        max_rotate=90.0,\n",
    "        do_flip=True, flip_vert=True, pad_mode='border'),\n",
    "    'flip_rotate192': aug_transforms(size=(192,192),\n",
    "        min_scale=1.0, min_zoom=1.0, max_zoom=1.0,\n",
    "        max_lighting=0.0, p_lighting=0.0,\n",
    "        max_warp=0.0, p_affine=1.0,\n",
    "        max_rotate=90.0,\n",
    "        do_flip=True, flip_vert=True, pad_mode='border'),\n",
    "    'flip_rotate_smcrop192': aug_transforms(size=(192,192),\n",
    "        min_scale=1.0, min_zoom=1.0, max_zoom=1.2,\n",
    "        max_lighting=0.0, p_lighting=0.0,\n",
    "        max_warp=0.0, p_affine=0.75,\n",
    "        max_rotate=90.0,\n",
    "        do_flip=True, flip_vert=True, pad_mode='border'),\n",
    "    'flip_rotate_smlightcropwarp192': aug_transforms(size=(192,192),\n",
    "        min_scale=1.0, min_zoom=1.0, max_zoom=1.2,\n",
    "        max_lighting=0.1, p_lighting=0.75,\n",
    "        max_warp=0.2, p_affine=0.75,\n",
    "        max_rotate=90.0,\n",
    "        do_flip=True, flip_vert=True, pad_mode='border'),\n",
    "}"
   ]
  },
  {
   "cell_type": "code",
   "execution_count": 10,
   "id": "67d93f85",
   "metadata": {},
   "outputs": [],
   "source": [
    "models = {\n",
    "    'convnext_large_in22k': {\n",
    "        ('flip_rotate256', 11),\n",
    "        ('flip_rotate_smcrop256', 21),\n",
    "        ('flip_rotate_smlightcropwarp256', 31),\n",
    "    }, 'vit_large_patch16_224': {\n",
    "        ('flip_rotate224', 42),\n",
    "        ('flip_rotate_smcrop224', 52),\n",
    "        ('flip_rotate_smlightcropwarp224', 62),\n",
    "    }, 'swinv2_large_window12_192_22k': {\n",
    "        ('flip_rotate192', 73),\n",
    "        ('flip_rotate_smcrop192', 83),\n",
    "        ('flip_rotate_smlightcropwarp192', 93),\n",
    "    }, 'swin_large_patch4_window7_224': {\n",
    "        ('flip_rotate224', 14),\n",
    "        ('flip_rotate_smcrop224', 24),\n",
    "        ('flip_rotate_smlightcropwarp224', 34),\n",
    "    }\n",
    "}"
   ]
  },
  {
   "cell_type": "markdown",
   "id": "81dc687d",
   "metadata": {},
   "source": [
    "Generate confusion matrices for models trained in experiment 6"
   ]
  },
  {
   "cell_type": "code",
   "execution_count": 28,
   "id": "41a75097",
   "metadata": {},
   "outputs": [
    {
     "name": "stdout",
     "output_type": "stream",
     "text": [
      "--- convnext_large_in22k   flip_rotate_smlightcropwarp256   31 ---\n"
     ]
    },
    {
     "data": {
      "text/html": [
       "\n",
       "<style>\n",
       "    /* Turns off some styling */\n",
       "    progress {\n",
       "        /* gets rid of default border in Firefox and Opera. */\n",
       "        border: none;\n",
       "        /* Needs to be in here for Safari polyfill so background images work as expected. */\n",
       "        background-size: auto;\n",
       "    }\n",
       "    progress:not([value]), progress:not([value])::-webkit-progress-bar {\n",
       "        background: repeating-linear-gradient(45deg, #7e7e7e, #7e7e7e 10px, #5c5c5c 10px, #5c5c5c 20px);\n",
       "    }\n",
       "    .progress-bar-interrupted, .progress-bar-interrupted::-webkit-progress-bar {\n",
       "        background: #F44336;\n",
       "    }\n",
       "</style>\n"
      ],
      "text/plain": [
       "<IPython.core.display.HTML object>"
      ]
     },
     "metadata": {},
     "output_type": "display_data"
    },
    {
     "data": {
      "text/html": [],
      "text/plain": [
       "<IPython.core.display.HTML object>"
      ]
     },
     "metadata": {},
     "output_type": "display_data"
    },
    {
     "name": "stdout",
     "output_type": "stream",
     "text": [
      "GPU:0\n",
      "process     518485 uses     1877.000 MB GPU memory\n",
      "process     754977 uses     4849.000 MB GPU memory\n",
      "--- convnext_large_in22k   flip_rotate256   11 ---\n"
     ]
    },
    {
     "data": {
      "text/html": [
       "\n",
       "<style>\n",
       "    /* Turns off some styling */\n",
       "    progress {\n",
       "        /* gets rid of default border in Firefox and Opera. */\n",
       "        border: none;\n",
       "        /* Needs to be in here for Safari polyfill so background images work as expected. */\n",
       "        background-size: auto;\n",
       "    }\n",
       "    progress:not([value]), progress:not([value])::-webkit-progress-bar {\n",
       "        background: repeating-linear-gradient(45deg, #7e7e7e, #7e7e7e 10px, #5c5c5c 10px, #5c5c5c 20px);\n",
       "    }\n",
       "    .progress-bar-interrupted, .progress-bar-interrupted::-webkit-progress-bar {\n",
       "        background: #F44336;\n",
       "    }\n",
       "</style>\n"
      ],
      "text/plain": [
       "<IPython.core.display.HTML object>"
      ]
     },
     "metadata": {},
     "output_type": "display_data"
    },
    {
     "data": {
      "text/html": [],
      "text/plain": [
       "<IPython.core.display.HTML object>"
      ]
     },
     "metadata": {},
     "output_type": "display_data"
    },
    {
     "name": "stdout",
     "output_type": "stream",
     "text": [
      "GPU:0\n",
      "process     518485 uses     1877.000 MB GPU memory\n",
      "process     754977 uses     4859.000 MB GPU memory\n",
      "--- convnext_large_in22k   flip_rotate_smcrop256   21 ---\n"
     ]
    },
    {
     "data": {
      "text/html": [
       "\n",
       "<style>\n",
       "    /* Turns off some styling */\n",
       "    progress {\n",
       "        /* gets rid of default border in Firefox and Opera. */\n",
       "        border: none;\n",
       "        /* Needs to be in here for Safari polyfill so background images work as expected. */\n",
       "        background-size: auto;\n",
       "    }\n",
       "    progress:not([value]), progress:not([value])::-webkit-progress-bar {\n",
       "        background: repeating-linear-gradient(45deg, #7e7e7e, #7e7e7e 10px, #5c5c5c 10px, #5c5c5c 20px);\n",
       "    }\n",
       "    .progress-bar-interrupted, .progress-bar-interrupted::-webkit-progress-bar {\n",
       "        background: #F44336;\n",
       "    }\n",
       "</style>\n"
      ],
      "text/plain": [
       "<IPython.core.display.HTML object>"
      ]
     },
     "metadata": {},
     "output_type": "display_data"
    },
    {
     "data": {
      "text/html": [],
      "text/plain": [
       "<IPython.core.display.HTML object>"
      ]
     },
     "metadata": {},
     "output_type": "display_data"
    },
    {
     "name": "stdout",
     "output_type": "stream",
     "text": [
      "GPU:0\n",
      "process     518485 uses     1877.000 MB GPU memory\n",
      "process     754977 uses     4859.000 MB GPU memory\n",
      "--- vit_large_patch16_224   flip_rotate_smcrop224   52 ---\n"
     ]
    },
    {
     "data": {
      "text/html": [
       "\n",
       "<style>\n",
       "    /* Turns off some styling */\n",
       "    progress {\n",
       "        /* gets rid of default border in Firefox and Opera. */\n",
       "        border: none;\n",
       "        /* Needs to be in here for Safari polyfill so background images work as expected. */\n",
       "        background-size: auto;\n",
       "    }\n",
       "    progress:not([value]), progress:not([value])::-webkit-progress-bar {\n",
       "        background: repeating-linear-gradient(45deg, #7e7e7e, #7e7e7e 10px, #5c5c5c 10px, #5c5c5c 20px);\n",
       "    }\n",
       "    .progress-bar-interrupted, .progress-bar-interrupted::-webkit-progress-bar {\n",
       "        background: #F44336;\n",
       "    }\n",
       "</style>\n"
      ],
      "text/plain": [
       "<IPython.core.display.HTML object>"
      ]
     },
     "metadata": {},
     "output_type": "display_data"
    },
    {
     "data": {
      "text/html": [],
      "text/plain": [
       "<IPython.core.display.HTML object>"
      ]
     },
     "metadata": {},
     "output_type": "display_data"
    },
    {
     "name": "stdout",
     "output_type": "stream",
     "text": [
      "GPU:0\n",
      "process     518485 uses     1877.000 MB GPU memory\n",
      "process     754977 uses     5105.000 MB GPU memory\n",
      "--- vit_large_patch16_224   flip_rotate_smlightcropwarp224   62 ---\n"
     ]
    },
    {
     "data": {
      "text/html": [
       "\n",
       "<style>\n",
       "    /* Turns off some styling */\n",
       "    progress {\n",
       "        /* gets rid of default border in Firefox and Opera. */\n",
       "        border: none;\n",
       "        /* Needs to be in here for Safari polyfill so background images work as expected. */\n",
       "        background-size: auto;\n",
       "    }\n",
       "    progress:not([value]), progress:not([value])::-webkit-progress-bar {\n",
       "        background: repeating-linear-gradient(45deg, #7e7e7e, #7e7e7e 10px, #5c5c5c 10px, #5c5c5c 20px);\n",
       "    }\n",
       "    .progress-bar-interrupted, .progress-bar-interrupted::-webkit-progress-bar {\n",
       "        background: #F44336;\n",
       "    }\n",
       "</style>\n"
      ],
      "text/plain": [
       "<IPython.core.display.HTML object>"
      ]
     },
     "metadata": {},
     "output_type": "display_data"
    },
    {
     "data": {
      "text/html": [],
      "text/plain": [
       "<IPython.core.display.HTML object>"
      ]
     },
     "metadata": {},
     "output_type": "display_data"
    },
    {
     "name": "stdout",
     "output_type": "stream",
     "text": [
      "GPU:0\n",
      "process     518485 uses     1877.000 MB GPU memory\n",
      "process     754977 uses     5105.000 MB GPU memory\n",
      "--- vit_large_patch16_224   flip_rotate224   42 ---\n"
     ]
    },
    {
     "data": {
      "text/html": [
       "\n",
       "<style>\n",
       "    /* Turns off some styling */\n",
       "    progress {\n",
       "        /* gets rid of default border in Firefox and Opera. */\n",
       "        border: none;\n",
       "        /* Needs to be in here for Safari polyfill so background images work as expected. */\n",
       "        background-size: auto;\n",
       "    }\n",
       "    progress:not([value]), progress:not([value])::-webkit-progress-bar {\n",
       "        background: repeating-linear-gradient(45deg, #7e7e7e, #7e7e7e 10px, #5c5c5c 10px, #5c5c5c 20px);\n",
       "    }\n",
       "    .progress-bar-interrupted, .progress-bar-interrupted::-webkit-progress-bar {\n",
       "        background: #F44336;\n",
       "    }\n",
       "</style>\n"
      ],
      "text/plain": [
       "<IPython.core.display.HTML object>"
      ]
     },
     "metadata": {},
     "output_type": "display_data"
    },
    {
     "data": {
      "text/html": [],
      "text/plain": [
       "<IPython.core.display.HTML object>"
      ]
     },
     "metadata": {},
     "output_type": "display_data"
    },
    {
     "name": "stdout",
     "output_type": "stream",
     "text": [
      "GPU:0\n",
      "process     518485 uses     1877.000 MB GPU memory\n",
      "process     754977 uses     5105.000 MB GPU memory\n",
      "--- swinv2_large_window12_192_22k   flip_rotate_smcrop192   83 ---\n"
     ]
    },
    {
     "data": {
      "text/html": [
       "\n",
       "<style>\n",
       "    /* Turns off some styling */\n",
       "    progress {\n",
       "        /* gets rid of default border in Firefox and Opera. */\n",
       "        border: none;\n",
       "        /* Needs to be in here for Safari polyfill so background images work as expected. */\n",
       "        background-size: auto;\n",
       "    }\n",
       "    progress:not([value]), progress:not([value])::-webkit-progress-bar {\n",
       "        background: repeating-linear-gradient(45deg, #7e7e7e, #7e7e7e 10px, #5c5c5c 10px, #5c5c5c 20px);\n",
       "    }\n",
       "    .progress-bar-interrupted, .progress-bar-interrupted::-webkit-progress-bar {\n",
       "        background: #F44336;\n",
       "    }\n",
       "</style>\n"
      ],
      "text/plain": [
       "<IPython.core.display.HTML object>"
      ]
     },
     "metadata": {},
     "output_type": "display_data"
    },
    {
     "data": {
      "text/html": [],
      "text/plain": [
       "<IPython.core.display.HTML object>"
      ]
     },
     "metadata": {},
     "output_type": "display_data"
    },
    {
     "name": "stdout",
     "output_type": "stream",
     "text": [
      "GPU:0\n",
      "process     518485 uses     1877.000 MB GPU memory\n",
      "process     754977 uses     4853.000 MB GPU memory\n",
      "--- swinv2_large_window12_192_22k   flip_rotate192   73 ---\n"
     ]
    },
    {
     "data": {
      "text/html": [
       "\n",
       "<style>\n",
       "    /* Turns off some styling */\n",
       "    progress {\n",
       "        /* gets rid of default border in Firefox and Opera. */\n",
       "        border: none;\n",
       "        /* Needs to be in here for Safari polyfill so background images work as expected. */\n",
       "        background-size: auto;\n",
       "    }\n",
       "    progress:not([value]), progress:not([value])::-webkit-progress-bar {\n",
       "        background: repeating-linear-gradient(45deg, #7e7e7e, #7e7e7e 10px, #5c5c5c 10px, #5c5c5c 20px);\n",
       "    }\n",
       "    .progress-bar-interrupted, .progress-bar-interrupted::-webkit-progress-bar {\n",
       "        background: #F44336;\n",
       "    }\n",
       "</style>\n"
      ],
      "text/plain": [
       "<IPython.core.display.HTML object>"
      ]
     },
     "metadata": {},
     "output_type": "display_data"
    },
    {
     "data": {
      "text/html": [],
      "text/plain": [
       "<IPython.core.display.HTML object>"
      ]
     },
     "metadata": {},
     "output_type": "display_data"
    },
    {
     "name": "stdout",
     "output_type": "stream",
     "text": [
      "GPU:0\n",
      "process     518485 uses     1877.000 MB GPU memory\n",
      "process     754977 uses     4853.000 MB GPU memory\n",
      "--- swinv2_large_window12_192_22k   flip_rotate_smlightcropwarp192   93 ---\n"
     ]
    },
    {
     "data": {
      "text/html": [
       "\n",
       "<style>\n",
       "    /* Turns off some styling */\n",
       "    progress {\n",
       "        /* gets rid of default border in Firefox and Opera. */\n",
       "        border: none;\n",
       "        /* Needs to be in here for Safari polyfill so background images work as expected. */\n",
       "        background-size: auto;\n",
       "    }\n",
       "    progress:not([value]), progress:not([value])::-webkit-progress-bar {\n",
       "        background: repeating-linear-gradient(45deg, #7e7e7e, #7e7e7e 10px, #5c5c5c 10px, #5c5c5c 20px);\n",
       "    }\n",
       "    .progress-bar-interrupted, .progress-bar-interrupted::-webkit-progress-bar {\n",
       "        background: #F44336;\n",
       "    }\n",
       "</style>\n"
      ],
      "text/plain": [
       "<IPython.core.display.HTML object>"
      ]
     },
     "metadata": {},
     "output_type": "display_data"
    },
    {
     "data": {
      "text/html": [],
      "text/plain": [
       "<IPython.core.display.HTML object>"
      ]
     },
     "metadata": {},
     "output_type": "display_data"
    },
    {
     "name": "stdout",
     "output_type": "stream",
     "text": [
      "GPU:0\n",
      "process     518485 uses     1877.000 MB GPU memory\n",
      "process     754977 uses     4853.000 MB GPU memory\n",
      "--- swin_large_patch4_window7_224   flip_rotate_smcrop224   24 ---\n"
     ]
    },
    {
     "data": {
      "text/html": [
       "\n",
       "<style>\n",
       "    /* Turns off some styling */\n",
       "    progress {\n",
       "        /* gets rid of default border in Firefox and Opera. */\n",
       "        border: none;\n",
       "        /* Needs to be in here for Safari polyfill so background images work as expected. */\n",
       "        background-size: auto;\n",
       "    }\n",
       "    progress:not([value]), progress:not([value])::-webkit-progress-bar {\n",
       "        background: repeating-linear-gradient(45deg, #7e7e7e, #7e7e7e 10px, #5c5c5c 10px, #5c5c5c 20px);\n",
       "    }\n",
       "    .progress-bar-interrupted, .progress-bar-interrupted::-webkit-progress-bar {\n",
       "        background: #F44336;\n",
       "    }\n",
       "</style>\n"
      ],
      "text/plain": [
       "<IPython.core.display.HTML object>"
      ]
     },
     "metadata": {},
     "output_type": "display_data"
    },
    {
     "data": {
      "text/html": [],
      "text/plain": [
       "<IPython.core.display.HTML object>"
      ]
     },
     "metadata": {},
     "output_type": "display_data"
    },
    {
     "name": "stdout",
     "output_type": "stream",
     "text": [
      "GPU:0\n",
      "process     518485 uses     1877.000 MB GPU memory\n",
      "process     754977 uses     4879.000 MB GPU memory\n",
      "--- swin_large_patch4_window7_224   flip_rotate_smlightcropwarp224   34 ---\n"
     ]
    },
    {
     "data": {
      "text/html": [
       "\n",
       "<style>\n",
       "    /* Turns off some styling */\n",
       "    progress {\n",
       "        /* gets rid of default border in Firefox and Opera. */\n",
       "        border: none;\n",
       "        /* Needs to be in here for Safari polyfill so background images work as expected. */\n",
       "        background-size: auto;\n",
       "    }\n",
       "    progress:not([value]), progress:not([value])::-webkit-progress-bar {\n",
       "        background: repeating-linear-gradient(45deg, #7e7e7e, #7e7e7e 10px, #5c5c5c 10px, #5c5c5c 20px);\n",
       "    }\n",
       "    .progress-bar-interrupted, .progress-bar-interrupted::-webkit-progress-bar {\n",
       "        background: #F44336;\n",
       "    }\n",
       "</style>\n"
      ],
      "text/plain": [
       "<IPython.core.display.HTML object>"
      ]
     },
     "metadata": {},
     "output_type": "display_data"
    },
    {
     "data": {
      "text/html": [],
      "text/plain": [
       "<IPython.core.display.HTML object>"
      ]
     },
     "metadata": {},
     "output_type": "display_data"
    },
    {
     "name": "stdout",
     "output_type": "stream",
     "text": [
      "GPU:0\n",
      "process     518485 uses     1877.000 MB GPU memory\n",
      "process     754977 uses     4879.000 MB GPU memory\n",
      "--- swin_large_patch4_window7_224   flip_rotate224   14 ---\n"
     ]
    },
    {
     "data": {
      "text/html": [
       "\n",
       "<style>\n",
       "    /* Turns off some styling */\n",
       "    progress {\n",
       "        /* gets rid of default border in Firefox and Opera. */\n",
       "        border: none;\n",
       "        /* Needs to be in here for Safari polyfill so background images work as expected. */\n",
       "        background-size: auto;\n",
       "    }\n",
       "    progress:not([value]), progress:not([value])::-webkit-progress-bar {\n",
       "        background: repeating-linear-gradient(45deg, #7e7e7e, #7e7e7e 10px, #5c5c5c 10px, #5c5c5c 20px);\n",
       "    }\n",
       "    .progress-bar-interrupted, .progress-bar-interrupted::-webkit-progress-bar {\n",
       "        background: #F44336;\n",
       "    }\n",
       "</style>\n"
      ],
      "text/plain": [
       "<IPython.core.display.HTML object>"
      ]
     },
     "metadata": {},
     "output_type": "display_data"
    },
    {
     "data": {
      "text/html": [],
      "text/plain": [
       "<IPython.core.display.HTML object>"
      ]
     },
     "metadata": {},
     "output_type": "display_data"
    },
    {
     "name": "stdout",
     "output_type": "stream",
     "text": [
      "GPU:0\n",
      "process     518485 uses     1877.000 MB GPU memory\n",
      "process     754977 uses     4879.000 MB GPU memory\n"
     ]
    }
   ],
   "source": [
    "import gc\n",
    "\n",
    "_item = Resize(256, method=ResizeMethod.Pad, pad_mode=PadMode.Border)\n",
    "_epochs = 12\n",
    "\n",
    "tta_res = []\n",
    "valid_res = []\n",
    "tta_valid_res = []\n",
    "\n",
    "for _arch, details in models.items():\n",
    "    for _batch, _seed in details:\n",
    "        print('---',_arch,\" \",_batch,\" \",_seed,'---')\n",
    "        \n",
    "        # Load Model\n",
    "        model_filename = f'{_arch}-{_batch}-seed_{_seed}-epochs_{_epochs}-expt_6.pkl'\n",
    "        learn = load_learner(csv_path/model_filename).to_fp16()\n",
    "        \n",
    "        # Provide identical dataloader\n",
    "        dls = ImageDataLoaders.from_df(trn_files, seed=_seed,\n",
    "            path=csv_path, fn_col=2, label_col=3,\n",
    "            valid_pct=0.2, item_tfms=_item,\n",
    "            batch_tfms=champ_augmentations[_batch],\n",
    "            bs=64//2)\n",
    "        learn.dls = dls\n",
    "          \n",
    "#         learn, tta_out = train_accum(arch, batch=champ_augmentations[batch], item=_item, accum=2, finetune=True, epochs=_epochs, new_seed=seed)\n",
    "#         tta_res.append(tta_out)\n",
    "        \n",
    "        # Verify stats on validation set\n",
    "        valid = learn.dls.valid\n",
    "        preds,targs = learn.get_preds(dl=valid)\n",
    "        valid_res.append(accuracy(preds,targs))\n",
    "        \n",
    "        # Check TTA statistics on validation set\n",
    "#         tta_preds,targs = learn.tta(dl=valid)\n",
    "#         tta_valid_res.append(accuracy(tta_preds,targs))\n",
    "\n",
    "        # Attempt to clear GPU memory (as best we can)\n",
    "        del(learn)\n",
    "        print(torch.cuda.list_gpu_processes())\n",
    "        gc.collect()\n",
    "        torch.cuda.empty_cache()"
   ]
  },
  {
   "cell_type": "markdown",
   "id": "eb63454b",
   "metadata": {},
   "source": [
    "Runs from experiment 6\n",
    "\n",
    "```\n",
    "[TensorBase(0.7999), TensorBase(0.8080), TensorBase(0.8052), TensorBase(0.7839), TensorBase(0.7957), TensorBase(0.8118), TensorBase(0.8083), TensorBase(0.8017), TensorBase(0.8020), TensorBase(0.7996), TensorBase(0.8083), TensorBase(0.8233)]\n",
    "[TensorBase(0.8059), TensorBase(0.8135), TensorBase(0.8160), TensorBase(0.7867), TensorBase(0.8128), TensorBase(0.8142), TensorBase(0.8139), TensorBase(0.8059), TensorBase(0.8146), TensorBase(0.8059), TensorBase(0.8163), TensorBase(0.8240)]\n",
    "```"
   ]
  },
  {
   "cell_type": "code",
   "execution_count": 29,
   "id": "bdeba87c",
   "metadata": {},
   "outputs": [
    {
     "name": "stdout",
     "output_type": "stream",
     "text": [
      "[TensorBase(0.7291), TensorBase(0.6973), TensorBase(0.7057), TensorBase(0.7552), TensorBase(0.7699), TensorBase(0.7245), TensorBase(0.7105), TensorBase(0.6882), TensorBase(0.7287), TensorBase(0.6927), TensorBase(0.7413), TensorBase(0.7001)]\n"
     ]
    }
   ],
   "source": [
    "print(valid_res)\n",
    "# print(tta_valid_res)"
   ]
  },
  {
   "cell_type": "markdown",
   "id": "a04f4a68",
   "metadata": {},
   "source": [
    "For some reason I cannot get the dataloader to reproduce the train/valid split (even providing the seed).  I assume this is what is causing the differences as the simple validation accuracy is not reproducable.  Unfortunately, this prohibits doing much model error analysis without including images regardless of train/val set identity during training.\n",
    "\n",
    "For fun, let's see what happens if we plot the confusion matrices for the models for all train data."
   ]
  },
  {
   "cell_type": "code",
   "execution_count": 37,
   "id": "ec573b7e",
   "metadata": {},
   "outputs": [
    {
     "name": "stdout",
     "output_type": "stream",
     "text": [
      "--- convnext_large_in22k   flip_rotate_smlightcropwarp256   31 ---\n"
     ]
    },
    {
     "data": {
      "text/html": [
       "\n",
       "<style>\n",
       "    /* Turns off some styling */\n",
       "    progress {\n",
       "        /* gets rid of default border in Firefox and Opera. */\n",
       "        border: none;\n",
       "        /* Needs to be in here for Safari polyfill so background images work as expected. */\n",
       "        background-size: auto;\n",
       "    }\n",
       "    progress:not([value]), progress:not([value])::-webkit-progress-bar {\n",
       "        background: repeating-linear-gradient(45deg, #7e7e7e, #7e7e7e 10px, #5c5c5c 10px, #5c5c5c 20px);\n",
       "    }\n",
       "    .progress-bar-interrupted, .progress-bar-interrupted::-webkit-progress-bar {\n",
       "        background: #F44336;\n",
       "    }\n",
       "</style>\n"
      ],
      "text/plain": [
       "<IPython.core.display.HTML object>"
      ]
     },
     "metadata": {},
     "output_type": "display_data"
    },
    {
     "data": {
      "text/html": [],
      "text/plain": [
       "<IPython.core.display.HTML object>"
      ]
     },
     "metadata": {},
     "output_type": "display_data"
    },
    {
     "data": {
      "text/html": [
       "\n",
       "<style>\n",
       "    /* Turns off some styling */\n",
       "    progress {\n",
       "        /* gets rid of default border in Firefox and Opera. */\n",
       "        border: none;\n",
       "        /* Needs to be in here for Safari polyfill so background images work as expected. */\n",
       "        background-size: auto;\n",
       "    }\n",
       "    progress:not([value]), progress:not([value])::-webkit-progress-bar {\n",
       "        background: repeating-linear-gradient(45deg, #7e7e7e, #7e7e7e 10px, #5c5c5c 10px, #5c5c5c 20px);\n",
       "    }\n",
       "    .progress-bar-interrupted, .progress-bar-interrupted::-webkit-progress-bar {\n",
       "        background: #F44336;\n",
       "    }\n",
       "</style>\n"
      ],
      "text/plain": [
       "<IPython.core.display.HTML object>"
      ]
     },
     "metadata": {},
     "output_type": "display_data"
    },
    {
     "data": {
      "text/html": [],
      "text/plain": [
       "<IPython.core.display.HTML object>"
      ]
     },
     "metadata": {},
     "output_type": "display_data"
    },
    {
     "name": "stdout",
     "output_type": "stream",
     "text": [
      "GPU:0\n",
      "process     518485 uses     1877.000 MB GPU memory\n",
      "process     754977 uses     5063.000 MB GPU memory\n",
      "--- convnext_large_in22k   flip_rotate256   11 ---\n"
     ]
    },
    {
     "data": {
      "text/html": [
       "\n",
       "<style>\n",
       "    /* Turns off some styling */\n",
       "    progress {\n",
       "        /* gets rid of default border in Firefox and Opera. */\n",
       "        border: none;\n",
       "        /* Needs to be in here for Safari polyfill so background images work as expected. */\n",
       "        background-size: auto;\n",
       "    }\n",
       "    progress:not([value]), progress:not([value])::-webkit-progress-bar {\n",
       "        background: repeating-linear-gradient(45deg, #7e7e7e, #7e7e7e 10px, #5c5c5c 10px, #5c5c5c 20px);\n",
       "    }\n",
       "    .progress-bar-interrupted, .progress-bar-interrupted::-webkit-progress-bar {\n",
       "        background: #F44336;\n",
       "    }\n",
       "</style>\n"
      ],
      "text/plain": [
       "<IPython.core.display.HTML object>"
      ]
     },
     "metadata": {},
     "output_type": "display_data"
    },
    {
     "data": {
      "text/html": [],
      "text/plain": [
       "<IPython.core.display.HTML object>"
      ]
     },
     "metadata": {},
     "output_type": "display_data"
    },
    {
     "data": {
      "text/html": [
       "\n",
       "<style>\n",
       "    /* Turns off some styling */\n",
       "    progress {\n",
       "        /* gets rid of default border in Firefox and Opera. */\n",
       "        border: none;\n",
       "        /* Needs to be in here for Safari polyfill so background images work as expected. */\n",
       "        background-size: auto;\n",
       "    }\n",
       "    progress:not([value]), progress:not([value])::-webkit-progress-bar {\n",
       "        background: repeating-linear-gradient(45deg, #7e7e7e, #7e7e7e 10px, #5c5c5c 10px, #5c5c5c 20px);\n",
       "    }\n",
       "    .progress-bar-interrupted, .progress-bar-interrupted::-webkit-progress-bar {\n",
       "        background: #F44336;\n",
       "    }\n",
       "</style>\n"
      ],
      "text/plain": [
       "<IPython.core.display.HTML object>"
      ]
     },
     "metadata": {},
     "output_type": "display_data"
    },
    {
     "data": {
      "text/html": [],
      "text/plain": [
       "<IPython.core.display.HTML object>"
      ]
     },
     "metadata": {},
     "output_type": "display_data"
    },
    {
     "name": "stdout",
     "output_type": "stream",
     "text": [
      "GPU:0\n",
      "process     518485 uses     1877.000 MB GPU memory\n",
      "process     754977 uses     5505.000 MB GPU memory\n",
      "--- convnext_large_in22k   flip_rotate_smcrop256   21 ---\n"
     ]
    },
    {
     "data": {
      "text/html": [
       "\n",
       "<style>\n",
       "    /* Turns off some styling */\n",
       "    progress {\n",
       "        /* gets rid of default border in Firefox and Opera. */\n",
       "        border: none;\n",
       "        /* Needs to be in here for Safari polyfill so background images work as expected. */\n",
       "        background-size: auto;\n",
       "    }\n",
       "    progress:not([value]), progress:not([value])::-webkit-progress-bar {\n",
       "        background: repeating-linear-gradient(45deg, #7e7e7e, #7e7e7e 10px, #5c5c5c 10px, #5c5c5c 20px);\n",
       "    }\n",
       "    .progress-bar-interrupted, .progress-bar-interrupted::-webkit-progress-bar {\n",
       "        background: #F44336;\n",
       "    }\n",
       "</style>\n"
      ],
      "text/plain": [
       "<IPython.core.display.HTML object>"
      ]
     },
     "metadata": {},
     "output_type": "display_data"
    },
    {
     "data": {
      "text/html": [],
      "text/plain": [
       "<IPython.core.display.HTML object>"
      ]
     },
     "metadata": {},
     "output_type": "display_data"
    },
    {
     "data": {
      "text/html": [
       "\n",
       "<style>\n",
       "    /* Turns off some styling */\n",
       "    progress {\n",
       "        /* gets rid of default border in Firefox and Opera. */\n",
       "        border: none;\n",
       "        /* Needs to be in here for Safari polyfill so background images work as expected. */\n",
       "        background-size: auto;\n",
       "    }\n",
       "    progress:not([value]), progress:not([value])::-webkit-progress-bar {\n",
       "        background: repeating-linear-gradient(45deg, #7e7e7e, #7e7e7e 10px, #5c5c5c 10px, #5c5c5c 20px);\n",
       "    }\n",
       "    .progress-bar-interrupted, .progress-bar-interrupted::-webkit-progress-bar {\n",
       "        background: #F44336;\n",
       "    }\n",
       "</style>\n"
      ],
      "text/plain": [
       "<IPython.core.display.HTML object>"
      ]
     },
     "metadata": {},
     "output_type": "display_data"
    },
    {
     "data": {
      "text/html": [],
      "text/plain": [
       "<IPython.core.display.HTML object>"
      ]
     },
     "metadata": {},
     "output_type": "display_data"
    },
    {
     "name": "stdout",
     "output_type": "stream",
     "text": [
      "GPU:0\n",
      "process     518485 uses     1877.000 MB GPU memory\n",
      "process     754977 uses     5299.000 MB GPU memory\n",
      "--- vit_large_patch16_224   flip_rotate_smcrop224   52 ---\n"
     ]
    },
    {
     "data": {
      "text/html": [
       "\n",
       "<style>\n",
       "    /* Turns off some styling */\n",
       "    progress {\n",
       "        /* gets rid of default border in Firefox and Opera. */\n",
       "        border: none;\n",
       "        /* Needs to be in here for Safari polyfill so background images work as expected. */\n",
       "        background-size: auto;\n",
       "    }\n",
       "    progress:not([value]), progress:not([value])::-webkit-progress-bar {\n",
       "        background: repeating-linear-gradient(45deg, #7e7e7e, #7e7e7e 10px, #5c5c5c 10px, #5c5c5c 20px);\n",
       "    }\n",
       "    .progress-bar-interrupted, .progress-bar-interrupted::-webkit-progress-bar {\n",
       "        background: #F44336;\n",
       "    }\n",
       "</style>\n"
      ],
      "text/plain": [
       "<IPython.core.display.HTML object>"
      ]
     },
     "metadata": {},
     "output_type": "display_data"
    },
    {
     "data": {
      "text/html": [],
      "text/plain": [
       "<IPython.core.display.HTML object>"
      ]
     },
     "metadata": {},
     "output_type": "display_data"
    },
    {
     "data": {
      "text/html": [
       "\n",
       "<style>\n",
       "    /* Turns off some styling */\n",
       "    progress {\n",
       "        /* gets rid of default border in Firefox and Opera. */\n",
       "        border: none;\n",
       "        /* Needs to be in here for Safari polyfill so background images work as expected. */\n",
       "        background-size: auto;\n",
       "    }\n",
       "    progress:not([value]), progress:not([value])::-webkit-progress-bar {\n",
       "        background: repeating-linear-gradient(45deg, #7e7e7e, #7e7e7e 10px, #5c5c5c 10px, #5c5c5c 20px);\n",
       "    }\n",
       "    .progress-bar-interrupted, .progress-bar-interrupted::-webkit-progress-bar {\n",
       "        background: #F44336;\n",
       "    }\n",
       "</style>\n"
      ],
      "text/plain": [
       "<IPython.core.display.HTML object>"
      ]
     },
     "metadata": {},
     "output_type": "display_data"
    },
    {
     "data": {
      "text/html": [],
      "text/plain": [
       "<IPython.core.display.HTML object>"
      ]
     },
     "metadata": {},
     "output_type": "display_data"
    },
    {
     "name": "stdout",
     "output_type": "stream",
     "text": [
      "GPU:0\n",
      "process     518485 uses     1877.000 MB GPU memory\n",
      "process     754977 uses     5561.000 MB GPU memory\n",
      "--- vit_large_patch16_224   flip_rotate_smlightcropwarp224   62 ---\n"
     ]
    },
    {
     "data": {
      "text/html": [
       "\n",
       "<style>\n",
       "    /* Turns off some styling */\n",
       "    progress {\n",
       "        /* gets rid of default border in Firefox and Opera. */\n",
       "        border: none;\n",
       "        /* Needs to be in here for Safari polyfill so background images work as expected. */\n",
       "        background-size: auto;\n",
       "    }\n",
       "    progress:not([value]), progress:not([value])::-webkit-progress-bar {\n",
       "        background: repeating-linear-gradient(45deg, #7e7e7e, #7e7e7e 10px, #5c5c5c 10px, #5c5c5c 20px);\n",
       "    }\n",
       "    .progress-bar-interrupted, .progress-bar-interrupted::-webkit-progress-bar {\n",
       "        background: #F44336;\n",
       "    }\n",
       "</style>\n"
      ],
      "text/plain": [
       "<IPython.core.display.HTML object>"
      ]
     },
     "metadata": {},
     "output_type": "display_data"
    },
    {
     "data": {
      "text/html": [],
      "text/plain": [
       "<IPython.core.display.HTML object>"
      ]
     },
     "metadata": {},
     "output_type": "display_data"
    },
    {
     "data": {
      "text/html": [
       "\n",
       "<style>\n",
       "    /* Turns off some styling */\n",
       "    progress {\n",
       "        /* gets rid of default border in Firefox and Opera. */\n",
       "        border: none;\n",
       "        /* Needs to be in here for Safari polyfill so background images work as expected. */\n",
       "        background-size: auto;\n",
       "    }\n",
       "    progress:not([value]), progress:not([value])::-webkit-progress-bar {\n",
       "        background: repeating-linear-gradient(45deg, #7e7e7e, #7e7e7e 10px, #5c5c5c 10px, #5c5c5c 20px);\n",
       "    }\n",
       "    .progress-bar-interrupted, .progress-bar-interrupted::-webkit-progress-bar {\n",
       "        background: #F44336;\n",
       "    }\n",
       "</style>\n"
      ],
      "text/plain": [
       "<IPython.core.display.HTML object>"
      ]
     },
     "metadata": {},
     "output_type": "display_data"
    },
    {
     "data": {
      "text/html": [],
      "text/plain": [
       "<IPython.core.display.HTML object>"
      ]
     },
     "metadata": {},
     "output_type": "display_data"
    },
    {
     "name": "stdout",
     "output_type": "stream",
     "text": [
      "GPU:0\n",
      "process     518485 uses     1877.000 MB GPU memory\n",
      "process     754977 uses     5929.000 MB GPU memory\n",
      "--- vit_large_patch16_224   flip_rotate224   42 ---\n"
     ]
    },
    {
     "data": {
      "text/html": [
       "\n",
       "<style>\n",
       "    /* Turns off some styling */\n",
       "    progress {\n",
       "        /* gets rid of default border in Firefox and Opera. */\n",
       "        border: none;\n",
       "        /* Needs to be in here for Safari polyfill so background images work as expected. */\n",
       "        background-size: auto;\n",
       "    }\n",
       "    progress:not([value]), progress:not([value])::-webkit-progress-bar {\n",
       "        background: repeating-linear-gradient(45deg, #7e7e7e, #7e7e7e 10px, #5c5c5c 10px, #5c5c5c 20px);\n",
       "    }\n",
       "    .progress-bar-interrupted, .progress-bar-interrupted::-webkit-progress-bar {\n",
       "        background: #F44336;\n",
       "    }\n",
       "</style>\n"
      ],
      "text/plain": [
       "<IPython.core.display.HTML object>"
      ]
     },
     "metadata": {},
     "output_type": "display_data"
    },
    {
     "data": {
      "text/html": [],
      "text/plain": [
       "<IPython.core.display.HTML object>"
      ]
     },
     "metadata": {},
     "output_type": "display_data"
    },
    {
     "data": {
      "text/html": [
       "\n",
       "<style>\n",
       "    /* Turns off some styling */\n",
       "    progress {\n",
       "        /* gets rid of default border in Firefox and Opera. */\n",
       "        border: none;\n",
       "        /* Needs to be in here for Safari polyfill so background images work as expected. */\n",
       "        background-size: auto;\n",
       "    }\n",
       "    progress:not([value]), progress:not([value])::-webkit-progress-bar {\n",
       "        background: repeating-linear-gradient(45deg, #7e7e7e, #7e7e7e 10px, #5c5c5c 10px, #5c5c5c 20px);\n",
       "    }\n",
       "    .progress-bar-interrupted, .progress-bar-interrupted::-webkit-progress-bar {\n",
       "        background: #F44336;\n",
       "    }\n",
       "</style>\n"
      ],
      "text/plain": [
       "<IPython.core.display.HTML object>"
      ]
     },
     "metadata": {},
     "output_type": "display_data"
    },
    {
     "data": {
      "text/html": [],
      "text/plain": [
       "<IPython.core.display.HTML object>"
      ]
     },
     "metadata": {},
     "output_type": "display_data"
    },
    {
     "name": "stdout",
     "output_type": "stream",
     "text": [
      "GPU:0\n",
      "process     518485 uses     1877.000 MB GPU memory\n",
      "process     754977 uses     5917.000 MB GPU memory\n",
      "--- swinv2_large_window12_192_22k   flip_rotate_smcrop192   83 ---\n"
     ]
    },
    {
     "data": {
      "text/html": [
       "\n",
       "<style>\n",
       "    /* Turns off some styling */\n",
       "    progress {\n",
       "        /* gets rid of default border in Firefox and Opera. */\n",
       "        border: none;\n",
       "        /* Needs to be in here for Safari polyfill so background images work as expected. */\n",
       "        background-size: auto;\n",
       "    }\n",
       "    progress:not([value]), progress:not([value])::-webkit-progress-bar {\n",
       "        background: repeating-linear-gradient(45deg, #7e7e7e, #7e7e7e 10px, #5c5c5c 10px, #5c5c5c 20px);\n",
       "    }\n",
       "    .progress-bar-interrupted, .progress-bar-interrupted::-webkit-progress-bar {\n",
       "        background: #F44336;\n",
       "    }\n",
       "</style>\n"
      ],
      "text/plain": [
       "<IPython.core.display.HTML object>"
      ]
     },
     "metadata": {},
     "output_type": "display_data"
    },
    {
     "data": {
      "text/html": [],
      "text/plain": [
       "<IPython.core.display.HTML object>"
      ]
     },
     "metadata": {},
     "output_type": "display_data"
    },
    {
     "data": {
      "text/html": [
       "\n",
       "<style>\n",
       "    /* Turns off some styling */\n",
       "    progress {\n",
       "        /* gets rid of default border in Firefox and Opera. */\n",
       "        border: none;\n",
       "        /* Needs to be in here for Safari polyfill so background images work as expected. */\n",
       "        background-size: auto;\n",
       "    }\n",
       "    progress:not([value]), progress:not([value])::-webkit-progress-bar {\n",
       "        background: repeating-linear-gradient(45deg, #7e7e7e, #7e7e7e 10px, #5c5c5c 10px, #5c5c5c 20px);\n",
       "    }\n",
       "    .progress-bar-interrupted, .progress-bar-interrupted::-webkit-progress-bar {\n",
       "        background: #F44336;\n",
       "    }\n",
       "</style>\n"
      ],
      "text/plain": [
       "<IPython.core.display.HTML object>"
      ]
     },
     "metadata": {},
     "output_type": "display_data"
    },
    {
     "data": {
      "text/html": [],
      "text/plain": [
       "<IPython.core.display.HTML object>"
      ]
     },
     "metadata": {},
     "output_type": "display_data"
    },
    {
     "name": "stdout",
     "output_type": "stream",
     "text": [
      "GPU:0\n",
      "process     518485 uses     1877.000 MB GPU memory\n",
      "process     754977 uses     5647.000 MB GPU memory\n",
      "--- swinv2_large_window12_192_22k   flip_rotate192   73 ---\n"
     ]
    },
    {
     "data": {
      "text/html": [
       "\n",
       "<style>\n",
       "    /* Turns off some styling */\n",
       "    progress {\n",
       "        /* gets rid of default border in Firefox and Opera. */\n",
       "        border: none;\n",
       "        /* Needs to be in here for Safari polyfill so background images work as expected. */\n",
       "        background-size: auto;\n",
       "    }\n",
       "    progress:not([value]), progress:not([value])::-webkit-progress-bar {\n",
       "        background: repeating-linear-gradient(45deg, #7e7e7e, #7e7e7e 10px, #5c5c5c 10px, #5c5c5c 20px);\n",
       "    }\n",
       "    .progress-bar-interrupted, .progress-bar-interrupted::-webkit-progress-bar {\n",
       "        background: #F44336;\n",
       "    }\n",
       "</style>\n"
      ],
      "text/plain": [
       "<IPython.core.display.HTML object>"
      ]
     },
     "metadata": {},
     "output_type": "display_data"
    },
    {
     "data": {
      "text/html": [],
      "text/plain": [
       "<IPython.core.display.HTML object>"
      ]
     },
     "metadata": {},
     "output_type": "display_data"
    },
    {
     "data": {
      "text/html": [
       "\n",
       "<style>\n",
       "    /* Turns off some styling */\n",
       "    progress {\n",
       "        /* gets rid of default border in Firefox and Opera. */\n",
       "        border: none;\n",
       "        /* Needs to be in here for Safari polyfill so background images work as expected. */\n",
       "        background-size: auto;\n",
       "    }\n",
       "    progress:not([value]), progress:not([value])::-webkit-progress-bar {\n",
       "        background: repeating-linear-gradient(45deg, #7e7e7e, #7e7e7e 10px, #5c5c5c 10px, #5c5c5c 20px);\n",
       "    }\n",
       "    .progress-bar-interrupted, .progress-bar-interrupted::-webkit-progress-bar {\n",
       "        background: #F44336;\n",
       "    }\n",
       "</style>\n"
      ],
      "text/plain": [
       "<IPython.core.display.HTML object>"
      ]
     },
     "metadata": {},
     "output_type": "display_data"
    },
    {
     "data": {
      "text/html": [],
      "text/plain": [
       "<IPython.core.display.HTML object>"
      ]
     },
     "metadata": {},
     "output_type": "display_data"
    },
    {
     "name": "stdout",
     "output_type": "stream",
     "text": [
      "GPU:0\n",
      "process     518485 uses     1877.000 MB GPU memory\n",
      "process     754977 uses     5301.000 MB GPU memory\n",
      "--- swinv2_large_window12_192_22k   flip_rotate_smlightcropwarp192   93 ---\n"
     ]
    },
    {
     "data": {
      "text/html": [
       "\n",
       "<style>\n",
       "    /* Turns off some styling */\n",
       "    progress {\n",
       "        /* gets rid of default border in Firefox and Opera. */\n",
       "        border: none;\n",
       "        /* Needs to be in here for Safari polyfill so background images work as expected. */\n",
       "        background-size: auto;\n",
       "    }\n",
       "    progress:not([value]), progress:not([value])::-webkit-progress-bar {\n",
       "        background: repeating-linear-gradient(45deg, #7e7e7e, #7e7e7e 10px, #5c5c5c 10px, #5c5c5c 20px);\n",
       "    }\n",
       "    .progress-bar-interrupted, .progress-bar-interrupted::-webkit-progress-bar {\n",
       "        background: #F44336;\n",
       "    }\n",
       "</style>\n"
      ],
      "text/plain": [
       "<IPython.core.display.HTML object>"
      ]
     },
     "metadata": {},
     "output_type": "display_data"
    },
    {
     "data": {
      "text/html": [],
      "text/plain": [
       "<IPython.core.display.HTML object>"
      ]
     },
     "metadata": {},
     "output_type": "display_data"
    },
    {
     "data": {
      "text/html": [
       "\n",
       "<style>\n",
       "    /* Turns off some styling */\n",
       "    progress {\n",
       "        /* gets rid of default border in Firefox and Opera. */\n",
       "        border: none;\n",
       "        /* Needs to be in here for Safari polyfill so background images work as expected. */\n",
       "        background-size: auto;\n",
       "    }\n",
       "    progress:not([value]), progress:not([value])::-webkit-progress-bar {\n",
       "        background: repeating-linear-gradient(45deg, #7e7e7e, #7e7e7e 10px, #5c5c5c 10px, #5c5c5c 20px);\n",
       "    }\n",
       "    .progress-bar-interrupted, .progress-bar-interrupted::-webkit-progress-bar {\n",
       "        background: #F44336;\n",
       "    }\n",
       "</style>\n"
      ],
      "text/plain": [
       "<IPython.core.display.HTML object>"
      ]
     },
     "metadata": {},
     "output_type": "display_data"
    },
    {
     "data": {
      "text/html": [],
      "text/plain": [
       "<IPython.core.display.HTML object>"
      ]
     },
     "metadata": {},
     "output_type": "display_data"
    },
    {
     "name": "stdout",
     "output_type": "stream",
     "text": [
      "GPU:0\n",
      "process     518485 uses     1877.000 MB GPU memory\n",
      "process     754977 uses     5301.000 MB GPU memory\n",
      "--- swin_large_patch4_window7_224   flip_rotate_smcrop224   24 ---\n"
     ]
    },
    {
     "data": {
      "text/html": [
       "\n",
       "<style>\n",
       "    /* Turns off some styling */\n",
       "    progress {\n",
       "        /* gets rid of default border in Firefox and Opera. */\n",
       "        border: none;\n",
       "        /* Needs to be in here for Safari polyfill so background images work as expected. */\n",
       "        background-size: auto;\n",
       "    }\n",
       "    progress:not([value]), progress:not([value])::-webkit-progress-bar {\n",
       "        background: repeating-linear-gradient(45deg, #7e7e7e, #7e7e7e 10px, #5c5c5c 10px, #5c5c5c 20px);\n",
       "    }\n",
       "    .progress-bar-interrupted, .progress-bar-interrupted::-webkit-progress-bar {\n",
       "        background: #F44336;\n",
       "    }\n",
       "</style>\n"
      ],
      "text/plain": [
       "<IPython.core.display.HTML object>"
      ]
     },
     "metadata": {},
     "output_type": "display_data"
    },
    {
     "data": {
      "text/html": [],
      "text/plain": [
       "<IPython.core.display.HTML object>"
      ]
     },
     "metadata": {},
     "output_type": "display_data"
    },
    {
     "data": {
      "text/html": [
       "\n",
       "<style>\n",
       "    /* Turns off some styling */\n",
       "    progress {\n",
       "        /* gets rid of default border in Firefox and Opera. */\n",
       "        border: none;\n",
       "        /* Needs to be in here for Safari polyfill so background images work as expected. */\n",
       "        background-size: auto;\n",
       "    }\n",
       "    progress:not([value]), progress:not([value])::-webkit-progress-bar {\n",
       "        background: repeating-linear-gradient(45deg, #7e7e7e, #7e7e7e 10px, #5c5c5c 10px, #5c5c5c 20px);\n",
       "    }\n",
       "    .progress-bar-interrupted, .progress-bar-interrupted::-webkit-progress-bar {\n",
       "        background: #F44336;\n",
       "    }\n",
       "</style>\n"
      ],
      "text/plain": [
       "<IPython.core.display.HTML object>"
      ]
     },
     "metadata": {},
     "output_type": "display_data"
    },
    {
     "data": {
      "text/html": [],
      "text/plain": [
       "<IPython.core.display.HTML object>"
      ]
     },
     "metadata": {},
     "output_type": "display_data"
    },
    {
     "name": "stdout",
     "output_type": "stream",
     "text": [
      "GPU:0\n",
      "process     518485 uses     1877.000 MB GPU memory\n",
      "process     754977 uses     5305.000 MB GPU memory\n",
      "--- swin_large_patch4_window7_224   flip_rotate_smlightcropwarp224   34 ---\n"
     ]
    },
    {
     "data": {
      "text/html": [
       "\n",
       "<style>\n",
       "    /* Turns off some styling */\n",
       "    progress {\n",
       "        /* gets rid of default border in Firefox and Opera. */\n",
       "        border: none;\n",
       "        /* Needs to be in here for Safari polyfill so background images work as expected. */\n",
       "        background-size: auto;\n",
       "    }\n",
       "    progress:not([value]), progress:not([value])::-webkit-progress-bar {\n",
       "        background: repeating-linear-gradient(45deg, #7e7e7e, #7e7e7e 10px, #5c5c5c 10px, #5c5c5c 20px);\n",
       "    }\n",
       "    .progress-bar-interrupted, .progress-bar-interrupted::-webkit-progress-bar {\n",
       "        background: #F44336;\n",
       "    }\n",
       "</style>\n"
      ],
      "text/plain": [
       "<IPython.core.display.HTML object>"
      ]
     },
     "metadata": {},
     "output_type": "display_data"
    },
    {
     "data": {
      "text/html": [],
      "text/plain": [
       "<IPython.core.display.HTML object>"
      ]
     },
     "metadata": {},
     "output_type": "display_data"
    },
    {
     "data": {
      "text/html": [
       "\n",
       "<style>\n",
       "    /* Turns off some styling */\n",
       "    progress {\n",
       "        /* gets rid of default border in Firefox and Opera. */\n",
       "        border: none;\n",
       "        /* Needs to be in here for Safari polyfill so background images work as expected. */\n",
       "        background-size: auto;\n",
       "    }\n",
       "    progress:not([value]), progress:not([value])::-webkit-progress-bar {\n",
       "        background: repeating-linear-gradient(45deg, #7e7e7e, #7e7e7e 10px, #5c5c5c 10px, #5c5c5c 20px);\n",
       "    }\n",
       "    .progress-bar-interrupted, .progress-bar-interrupted::-webkit-progress-bar {\n",
       "        background: #F44336;\n",
       "    }\n",
       "</style>\n"
      ],
      "text/plain": [
       "<IPython.core.display.HTML object>"
      ]
     },
     "metadata": {},
     "output_type": "display_data"
    },
    {
     "data": {
      "text/html": [],
      "text/plain": [
       "<IPython.core.display.HTML object>"
      ]
     },
     "metadata": {},
     "output_type": "display_data"
    },
    {
     "name": "stdout",
     "output_type": "stream",
     "text": [
      "GPU:0\n",
      "process     518485 uses     1877.000 MB GPU memory\n",
      "process     754977 uses     5301.000 MB GPU memory\n",
      "--- swin_large_patch4_window7_224   flip_rotate224   14 ---\n"
     ]
    },
    {
     "data": {
      "text/html": [
       "\n",
       "<style>\n",
       "    /* Turns off some styling */\n",
       "    progress {\n",
       "        /* gets rid of default border in Firefox and Opera. */\n",
       "        border: none;\n",
       "        /* Needs to be in here for Safari polyfill so background images work as expected. */\n",
       "        background-size: auto;\n",
       "    }\n",
       "    progress:not([value]), progress:not([value])::-webkit-progress-bar {\n",
       "        background: repeating-linear-gradient(45deg, #7e7e7e, #7e7e7e 10px, #5c5c5c 10px, #5c5c5c 20px);\n",
       "    }\n",
       "    .progress-bar-interrupted, .progress-bar-interrupted::-webkit-progress-bar {\n",
       "        background: #F44336;\n",
       "    }\n",
       "</style>\n"
      ],
      "text/plain": [
       "<IPython.core.display.HTML object>"
      ]
     },
     "metadata": {},
     "output_type": "display_data"
    },
    {
     "data": {
      "text/html": [],
      "text/plain": [
       "<IPython.core.display.HTML object>"
      ]
     },
     "metadata": {},
     "output_type": "display_data"
    },
    {
     "data": {
      "text/html": [
       "\n",
       "<style>\n",
       "    /* Turns off some styling */\n",
       "    progress {\n",
       "        /* gets rid of default border in Firefox and Opera. */\n",
       "        border: none;\n",
       "        /* Needs to be in here for Safari polyfill so background images work as expected. */\n",
       "        background-size: auto;\n",
       "    }\n",
       "    progress:not([value]), progress:not([value])::-webkit-progress-bar {\n",
       "        background: repeating-linear-gradient(45deg, #7e7e7e, #7e7e7e 10px, #5c5c5c 10px, #5c5c5c 20px);\n",
       "    }\n",
       "    .progress-bar-interrupted, .progress-bar-interrupted::-webkit-progress-bar {\n",
       "        background: #F44336;\n",
       "    }\n",
       "</style>\n"
      ],
      "text/plain": [
       "<IPython.core.display.HTML object>"
      ]
     },
     "metadata": {},
     "output_type": "display_data"
    },
    {
     "data": {
      "text/html": [],
      "text/plain": [
       "<IPython.core.display.HTML object>"
      ]
     },
     "metadata": {},
     "output_type": "display_data"
    },
    {
     "name": "stdout",
     "output_type": "stream",
     "text": [
      "GPU:0\n",
      "process     518485 uses     1877.000 MB GPU memory\n",
      "process     754977 uses     5301.000 MB GPU memory\n"
     ]
    },
    {
     "data": {
      "image/png": "[encoded data removed]",
      "text/plain": [
       "<Figure size 432x288 with 1 Axes>"
      ]
     },
     "metadata": {
      "needs_background": "light"
     },
     "output_type": "display_data"
    },
    {
     "data": {
      "image/png": "[encoded data removed]",
      "text/plain": [
       "<Figure size 432x288 with 1 Axes>"
      ]
     },
     "metadata": {
      "needs_background": "light"
     },
     "output_type": "display_data"
    },
    {
     "data": {
      "image/png": "[encoded data removed]",
      "text/plain": [
       "<Figure size 432x288 with 1 Axes>"
      ]
     },
     "metadata": {
      "needs_background": "light"
     },
     "output_type": "display_data"
    },
    {
     "data": {
      "image/png": "[encoded data removed]",
      "text/plain": [
       "<Figure size 432x288 with 1 Axes>"
      ]
     },
     "metadata": {
      "needs_background": "light"
     },
     "output_type": "display_data"
    },
    {
     "data": {
      "image/png": "[encoded data removed]",
      "text/plain": [
       "<Figure size 432x288 with 1 Axes>"
      ]
     },
     "metadata": {
      "needs_background": "light"
     },
     "output_type": "display_data"
    },
    {
     "data": {
      "image/png": "[encoded data removed]",
      "text/plain": [
       "<Figure size 432x288 with 1 Axes>"
      ]
     },
     "metadata": {
      "needs_background": "light"
     },
     "output_type": "display_data"
    },
    {
     "data": {
      "image/png": "[encoded data removed]",
      "text/plain": [
       "<Figure size 432x288 with 1 Axes>"
      ]
     },
     "metadata": {
      "needs_background": "light"
     },
     "output_type": "display_data"
    },
    {
     "data": {
      "image/png": "[encoded data removed]",
      "text/plain": [
       "<Figure size 432x288 with 1 Axes>"
      ]
     },
     "metadata": {
      "needs_background": "light"
     },
     "output_type": "display_data"
    },
    {
     "data": {
      "image/png": "[encoded data removed]",
      "text/plain": [
       "<Figure size 432x288 with 1 Axes>"
      ]
     },
     "metadata": {
      "needs_background": "light"
     },
     "output_type": "display_data"
    },
    {
     "data": {
      "image/png": "[encoded data removed]",
      "text/plain": [
       "<Figure size 432x288 with 1 Axes>"
      ]
     },
     "metadata": {
      "needs_background": "light"
     },
     "output_type": "display_data"
    },
    {
     "data": {
      "image/png": "[encoded data removed]",
      "text/plain": [
       "<Figure size 432x288 with 1 Axes>"
      ]
     },
     "metadata": {
      "needs_background": "light"
     },
     "output_type": "display_data"
    },
    {
     "data": {
      "image/png": "[encoded data removed]",
      "text/plain": [
       "<Figure size 432x288 with 1 Axes>"
      ]
     },
     "metadata": {
      "needs_background": "light"
     },
     "output_type": "display_data"
    }
   ],
   "source": [
    "import gc\n",
    "\n",
    "_item = Resize(256, method=ResizeMethod.Pad, pad_mode=PadMode.Border)\n",
    "_epochs = 12\n",
    "\n",
    "for _arch, details in models.items():\n",
    "    for _batch, _seed in details:\n",
    "        print('---',_arch,\" \",_batch,\" \",_seed,'---')\n",
    "        \n",
    "        # Load Model\n",
    "        model_filename = f'{_arch}-{_batch}-seed_{_seed}-epochs_{_epochs}-expt_6.pkl'\n",
    "        learn = load_learner(csv_path/model_filename).to_fp16()\n",
    "        \n",
    "        # Provide dataloader with (almost) no train set (otherwise identical)\n",
    "        dls = ImageDataLoaders.from_df(trn_files, seed=_seed,\n",
    "            path=csv_path, fn_col=2, label_col=3,\n",
    "            valid_pct=0.99, item_tfms=_item,\n",
    "            batch_tfms=champ_augmentations[_batch],\n",
    "            bs=64//2)\n",
    "        learn.dls = dls\n",
    "          \n",
    "        interp = ClassificationInterpretation.from_learner(learn)\n",
    "        interp.plot_confusion_matrix()\n",
    "\n",
    "        # Attempt to clear GPU memory (as best we can)\n",
    "        del(learn)\n",
    "        print(torch.cuda.list_gpu_processes())\n",
    "        gc.collect()\n",
    "        torch.cuda.empty_cache()"
   ]
  },
  {
   "cell_type": "markdown",
   "id": "44810a25",
   "metadata": {},
   "source": [
    "As expected the classes most represented in the training data is over represented in the predictions.  Many of the models get a disproportionate number of their incorrect predictions confusing discolored corn and predicting broken or pure instead.  The model that seemed to do the best in this regard was `vit_large_patch16_224   flip_rotate_smlightcropwarp22`."
   ]
  },
  {
   "cell_type": "markdown",
   "id": "4ad0366c",
   "metadata": {},
   "source": [
    "## Submission\n",
    "Out of curiousity, let's try submitting results solely from that model.\n",
    "\n",
    "Set parameters and load the model."
   ]
  },
  {
   "cell_type": "code",
   "execution_count": 44,
   "id": "5c4a1a34",
   "metadata": {},
   "outputs": [
    {
     "name": "stdout",
     "output_type": "stream",
     "text": [
      "vit_large_patch16_224-flip_rotate_smlightcropwarp224-seed_62-epochs_12-expt_6.pkl\n"
     ]
    }
   ],
   "source": [
    "_item = Resize(256, method=ResizeMethod.Pad, pad_mode=PadMode.Border)\n",
    "_epochs = 12\n",
    "_arch = 'vit_large_patch16_224'\n",
    "_batch = 'flip_rotate_smlightcropwarp224'\n",
    "_seed = 62\n",
    "\n",
    "# Load Model\n",
    "model_filename = f'{_arch}-{_batch}-seed_{_seed}-epochs_{_epochs}-expt_6.pkl'\n",
    "learn = load_learner(csv_path/model_filename, cpu=False).to_fp16()\n",
    "\n",
    "print(model_filename)"
   ]
  },
  {
   "cell_type": "markdown",
   "id": "def4ad79",
   "metadata": {},
   "source": [
    "Grab test files."
   ]
  },
  {
   "cell_type": "code",
   "execution_count": 45,
   "id": "0eed8109",
   "metadata": {},
   "outputs": [],
   "source": [
    "# Grab test files\n",
    "tst_files = get_image_files(tst_path).sorted()\n",
    "tst_dl = dls.test_dl(tst_files)"
   ]
  },
  {
   "cell_type": "markdown",
   "id": "c8f00db9",
   "metadata": {},
   "source": [
    "Get predictions from the model on the test data."
   ]
  },
  {
   "cell_type": "code",
   "execution_count": 46,
   "id": "fa55a6d0",
   "metadata": {},
   "outputs": [
    {
     "data": {
      "text/html": [
       "\n",
       "<style>\n",
       "    /* Turns off some styling */\n",
       "    progress {\n",
       "        /* gets rid of default border in Firefox and Opera. */\n",
       "        border: none;\n",
       "        /* Needs to be in here for Safari polyfill so background images work as expected. */\n",
       "        background-size: auto;\n",
       "    }\n",
       "    progress:not([value]), progress:not([value])::-webkit-progress-bar {\n",
       "        background: repeating-linear-gradient(45deg, #7e7e7e, #7e7e7e 10px, #5c5c5c 10px, #5c5c5c 20px);\n",
       "    }\n",
       "    .progress-bar-interrupted, .progress-bar-interrupted::-webkit-progress-bar {\n",
       "        background: #F44336;\n",
       "    }\n",
       "</style>\n"
      ],
      "text/plain": [
       "<IPython.core.display.HTML object>"
      ]
     },
     "metadata": {},
     "output_type": "display_data"
    },
    {
     "data": {
      "text/html": [],
      "text/plain": [
       "<IPython.core.display.HTML object>"
      ]
     },
     "metadata": {},
     "output_type": "display_data"
    },
    {
     "data": {
      "text/plain": [
       "tensor([0, 2, 2,  ..., 2, 2, 2])"
      ]
     },
     "execution_count": 46,
     "metadata": {},
     "output_type": "execute_result"
    }
   ],
   "source": [
    "probs,_,idxs = learn.get_preds(dl=tst_dl, with_decoded=True)\n",
    "idxs"
   ]
  },
  {
   "cell_type": "markdown",
   "id": "230fd199",
   "metadata": {},
   "source": [
    "Grab the `vocab` from a model dataloader"
   ]
  },
  {
   "cell_type": "code",
   "execution_count": 49,
   "id": "7b660249",
   "metadata": {},
   "outputs": [
    {
     "data": {
      "text/plain": [
       "array(['broken', 'discolored', 'pure', 'silkcut'], dtype='<U10')"
      ]
     },
     "execution_count": 49,
     "metadata": {},
     "output_type": "execute_result"
    }
   ],
   "source": [
    "# Provide dataloader trying to be same parameters as training dataloader\n",
    "dls = ImageDataLoaders.from_df(trn_files, seed=_seed,\n",
    "    path=csv_path, fn_col=2, label_col=3,\n",
    "    valid_pct=0.2, item_tfms=_item,\n",
    "    batch_tfms=champ_augmentations[_batch],\n",
    "    bs=64//2)\n",
    "\n",
    "vocab = np.array(dls.vocab)\n",
    "vocab"
   ]
  },
  {
   "cell_type": "markdown",
   "id": "7ccac9c9",
   "metadata": {},
   "source": [
    "Map prediction indexes to vocab list."
   ]
  },
  {
   "cell_type": "code",
   "execution_count": 50,
   "id": "94527688",
   "metadata": {},
   "outputs": [
    {
     "data": {
      "text/plain": [
       "0           broken\n",
       "1             pure\n",
       "2             pure\n",
       "3           broken\n",
       "4           broken\n",
       "           ...    \n",
       "3474    discolored\n",
       "3475          pure\n",
       "3476          pure\n",
       "3477          pure\n",
       "3478          pure\n",
       "Name: idxs, Length: 3479, dtype: object"
      ]
     },
     "execution_count": 50,
     "metadata": {},
     "output_type": "execute_result"
    }
   ],
   "source": [
    "results = pd.Series(vocab[idxs], name=\"idxs\")\n",
    "results"
   ]
  },
  {
   "cell_type": "markdown",
   "id": "3787e6d2",
   "metadata": {},
   "source": [
    "Modify the test file to a submission csv"
   ]
  },
  {
   "cell_type": "code",
   "execution_count": 52,
   "id": "abbd6b9f",
   "metadata": {},
   "outputs": [
    {
     "data": {
      "text/html": [
       "<div>\n",
       "<style scoped>\n",
       "    .dataframe tbody tr th:only-of-type {\n",
       "        vertical-align: middle;\n",
       "    }\n",
       "\n",
       "    .dataframe tbody tr th {\n",
       "        vertical-align: top;\n",
       "    }\n",
       "\n",
       "    .dataframe thead th {\n",
       "        text-align: right;\n",
       "    }\n",
       "</style>\n",
       "<table border=\"1\" class=\"dataframe\">\n",
       "  <thead>\n",
       "    <tr style=\"text-align: right;\">\n",
       "      <th></th>\n",
       "      <th>seed_id</th>\n",
       "      <th>view</th>\n",
       "      <th>image</th>\n",
       "    </tr>\n",
       "  </thead>\n",
       "  <tbody>\n",
       "    <tr>\n",
       "      <th>0</th>\n",
       "      <td>2</td>\n",
       "      <td>top</td>\n",
       "      <td>test/00002.png</td>\n",
       "    </tr>\n",
       "    <tr>\n",
       "      <th>1</th>\n",
       "      <td>11</td>\n",
       "      <td>bottom</td>\n",
       "      <td>test/00011.png</td>\n",
       "    </tr>\n",
       "    <tr>\n",
       "      <th>2</th>\n",
       "      <td>13</td>\n",
       "      <td>top</td>\n",
       "      <td>test/00013.png</td>\n",
       "    </tr>\n",
       "    <tr>\n",
       "      <th>3</th>\n",
       "      <td>19</td>\n",
       "      <td>bottom</td>\n",
       "      <td>test/00019.png</td>\n",
       "    </tr>\n",
       "    <tr>\n",
       "      <th>4</th>\n",
       "      <td>27</td>\n",
       "      <td>bottom</td>\n",
       "      <td>test/00027.png</td>\n",
       "    </tr>\n",
       "  </tbody>\n",
       "</table>\n",
       "</div>"
      ],
      "text/plain": [
       "   seed_id    view           image\n",
       "0        2     top  test/00002.png\n",
       "1       11  bottom  test/00011.png\n",
       "2       13     top  test/00013.png\n",
       "3       19  bottom  test/00019.png\n",
       "4       27  bottom  test/00027.png"
      ]
     },
     "execution_count": 52,
     "metadata": {},
     "output_type": "execute_result"
    }
   ],
   "source": [
    "test_csv_fname = csv_path/'test.csv'\n",
    "test = pd.read_csv(test_csv_fname)\n",
    "test.head()"
   ]
  },
  {
   "cell_type": "code",
   "execution_count": 53,
   "id": "4fcfeb8e",
   "metadata": {},
   "outputs": [
    {
     "data": {
      "text/html": [
       "<div>\n",
       "<style scoped>\n",
       "    .dataframe tbody tr th:only-of-type {\n",
       "        vertical-align: middle;\n",
       "    }\n",
       "\n",
       "    .dataframe tbody tr th {\n",
       "        vertical-align: top;\n",
       "    }\n",
       "\n",
       "    .dataframe thead th {\n",
       "        text-align: right;\n",
       "    }\n",
       "</style>\n",
       "<table border=\"1\" class=\"dataframe\">\n",
       "  <thead>\n",
       "    <tr style=\"text-align: right;\">\n",
       "      <th></th>\n",
       "      <th>seed_id</th>\n",
       "      <th>label</th>\n",
       "    </tr>\n",
       "  </thead>\n",
       "  <tbody>\n",
       "    <tr>\n",
       "      <th>0</th>\n",
       "      <td>2</td>\n",
       "      <td>broken</td>\n",
       "    </tr>\n",
       "    <tr>\n",
       "      <th>1</th>\n",
       "      <td>11</td>\n",
       "      <td>pure</td>\n",
       "    </tr>\n",
       "    <tr>\n",
       "      <th>2</th>\n",
       "      <td>13</td>\n",
       "      <td>pure</td>\n",
       "    </tr>\n",
       "    <tr>\n",
       "      <th>3</th>\n",
       "      <td>19</td>\n",
       "      <td>broken</td>\n",
       "    </tr>\n",
       "    <tr>\n",
       "      <th>4</th>\n",
       "      <td>27</td>\n",
       "      <td>broken</td>\n",
       "    </tr>\n",
       "    <tr>\n",
       "      <th>...</th>\n",
       "      <td>...</td>\n",
       "      <td>...</td>\n",
       "    </tr>\n",
       "    <tr>\n",
       "      <th>3474</th>\n",
       "      <td>17775</td>\n",
       "      <td>discolored</td>\n",
       "    </tr>\n",
       "    <tr>\n",
       "      <th>3475</th>\n",
       "      <td>17781</td>\n",
       "      <td>pure</td>\n",
       "    </tr>\n",
       "    <tr>\n",
       "      <th>3476</th>\n",
       "      <td>17790</td>\n",
       "      <td>pure</td>\n",
       "    </tr>\n",
       "    <tr>\n",
       "      <th>3477</th>\n",
       "      <td>17794</td>\n",
       "      <td>pure</td>\n",
       "    </tr>\n",
       "    <tr>\n",
       "      <th>3478</th>\n",
       "      <td>17798</td>\n",
       "      <td>pure</td>\n",
       "    </tr>\n",
       "  </tbody>\n",
       "</table>\n",
       "<p>3479 rows × 2 columns</p>\n",
       "</div>"
      ],
      "text/plain": [
       "      seed_id       label\n",
       "0           2      broken\n",
       "1          11        pure\n",
       "2          13        pure\n",
       "3          19      broken\n",
       "4          27      broken\n",
       "...       ...         ...\n",
       "3474    17775  discolored\n",
       "3475    17781        pure\n",
       "3476    17790        pure\n",
       "3477    17794        pure\n",
       "3478    17798        pure\n",
       "\n",
       "[3479 rows x 2 columns]"
      ]
     },
     "execution_count": 53,
     "metadata": {},
     "output_type": "execute_result"
    }
   ],
   "source": [
    "test.sort_values(by=['seed_id'])\n",
    "test = test.drop(columns=['view', 'image'])\n",
    "test['label'] = results\n",
    "test"
   ]
  },
  {
   "cell_type": "code",
   "execution_count": 54,
   "id": "f9e36196",
   "metadata": {},
   "outputs": [
    {
     "name": "stdout",
     "output_type": "stream",
     "text": [
      "seed_id,label\r\n",
      "2,broken\r\n",
      "11,pure\r\n",
      "13,pure\r\n",
      "19,broken\r\n",
      "27,broken\r\n",
      "30,pure\r\n",
      "32,pure\r\n",
      "41,pure\r\n",
      "42,broken\r\n"
     ]
    }
   ],
   "source": [
    "test.to_csv('submission_experiment_7.csv', index=False)\n",
    "!head submission_experiment_7.csv"
   ]
  },
  {
   "cell_type": "markdown",
   "id": "14d24be0",
   "metadata": {},
   "source": [
    "Let's submit!"
   ]
  },
  {
   "cell_type": "code",
   "execution_count": 55,
   "id": "df22b1d2",
   "metadata": {},
   "outputs": [
    {
     "name": "stderr",
     "output_type": "stream",
     "text": [
      "100%|██████████████████████████████████████| 40.8k/40.8k [00:00<00:00, 51.4kB/s]\n"
     ]
    }
   ],
   "source": [
    "# if not iskaggle:\n",
    "#     from kaggle import api\n",
    "#     api.competition_submit_cli('submission_experiment_7.csv', 'vit_large_patch16_224-flip_rotate_smlightcropwarp224-seed_62-epochs_12-expt_6/7', comp)"
   ]
  },
  {
   "cell_type": "markdown",
   "id": "fbd0154d",
   "metadata": {},
   "source": [
    "Single model score had accuracy of 77.729% on public leaderboard."
   ]
  }
 ],
 "metadata": {
  "kernelspec": {
   "display_name": "Python 3 (ipykernel)",
   "language": "python",
   "name": "python3"
  },
  "language_info": {
   "codemirror_mode": {
    "name": "ipython",
    "version": 3
   },
   "file_extension": ".py",
   "mimetype": "text/x-python",
   "name": "python",
   "nbconvert_exporter": "python",
   "pygments_lexer": "ipython3",
   "version": "3.9.12"
  }
 },
 "nbformat": 4,
 "nbformat_minor": 5
}
